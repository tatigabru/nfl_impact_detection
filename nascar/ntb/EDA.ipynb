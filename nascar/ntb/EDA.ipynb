{
 "cells": [
  {
   "cell_type": "code",
   "execution_count": 3,
   "metadata": {},
   "outputs": [],
   "source": [
    "import os\n",
    "import sys\n",
    "import pandas as pd\n",
    "\n",
    "sys.path.append('../')"
   ]
  },
  {
   "cell_type": "code",
   "execution_count": 4,
   "metadata": {},
   "outputs": [],
   "source": [
    "from config import *"
   ]
  },
  {
   "cell_type": "markdown",
   "metadata": {},
   "source": [
    "# Summary"
   ]
  },
  {
   "cell_type": "markdown",
   "metadata": {},
   "source": [
    "* 60 frames/per second\n",
    "* 120 video in train\n",
    "* 6 videos in mock test\n",
    "* about 400 frames per video "
   ]
  },
  {
   "cell_type": "code",
   "execution_count": 5,
   "metadata": {},
   "outputs": [
    {
     "name": "stdout",
     "output_type": "stream",
     "text": [
      "/home/anastasiya/Kaggle/NFL/nfl_impact_detection/nascar\n"
     ]
    }
   ],
   "source": [
    "%cd .."
   ]
  },
  {
   "cell_type": "markdown",
   "metadata": {},
   "source": [
    "### more"
   ]
  },
  {
   "cell_type": "code",
   "execution_count": 6,
   "metadata": {},
   "outputs": [],
   "source": [
    "# each play has two videos - sideline and endzone\n",
    "# videos are aligned\n",
    "# train - train video set\n",
    "# train_labels - labels for train videos\n",
    "# test - test video set\n",
    "# images - additional dataset with helmet bounding boxes\n",
    "# image_labels - labels for images\n",
    "# test set - 15 test videos\n",
    "# test videos copied from train set\n",
    "# mp4 - video format\n",
    "# only make prediction for the view that a player is actually visible in\n",
    "# video 59.94 frames per second\n",
    "# videos aligned +- 3 sec\n",
    "# The Sideline and Endzone views have been time-synced such that the snap occurs 10 frames into the video. ???"
   ]
  },
  {
   "cell_type": "code",
   "execution_count": 7,
   "metadata": {},
   "outputs": [],
   "source": [
    "# for evaluation\n",
    "# impact= 1\n",
    "# confidence > 1\n",
    "# visibility > 0"
   ]
  },
  {
   "cell_type": "markdown",
   "metadata": {},
   "source": [
    "# Kaggle EDA"
   ]
  },
  {
   "cell_type": "markdown",
   "metadata": {},
   "source": [
    "https://www.kaggle.com/divyanshuusingh/nfl-exploratory-data-analysis - very nice! nice correlations!"
   ]
  },
  {
   "cell_type": "markdown",
   "metadata": {},
   "source": [
    "# File descriptions"
   ]
  },
  {
   "cell_type": "markdown",
   "metadata": {},
   "source": [
    "### sample_submission"
   ]
  },
  {
   "cell_type": "code",
   "execution_count": 8,
   "metadata": {},
   "outputs": [
    {
     "data": {
      "text/plain": [
       "'\\nsample_submission.csv A valid sample submission file.\\n\\ngameKey: the ID code for the game.\\n\\nplayID: the ID code for the play.\\n\\nview: the camera orientation.\\n\\nvideo: the filename of the associated video.\\n\\nframe: the frame number for this play.\\n\\n[left/width/top/height]: the specification of the bounding box of the prediction.\\n'"
      ]
     },
     "execution_count": 8,
     "metadata": {},
     "output_type": "execute_result"
    }
   ],
   "source": [
    "\"\"\"\n",
    "sample_submission.csv A valid sample submission file.\n",
    "\n",
    "gameKey: the ID code for the game.\n",
    "\n",
    "playID: the ID code for the play.\n",
    "\n",
    "view: the camera orientation.\n",
    "\n",
    "video: the filename of the associated video.\n",
    "\n",
    "frame: the frame number for this play.\n",
    "\n",
    "[left/width/top/height]: the specification of the bounding box of the prediction.\n",
    "\"\"\""
   ]
  },
  {
   "cell_type": "markdown",
   "metadata": {},
   "source": [
    "### train_labels"
   ]
  },
  {
   "cell_type": "code",
   "execution_count": 9,
   "metadata": {},
   "outputs": [
    {
     "data": {
      "text/plain": [
       "\"\\ntrain_labels.csv Helmet tracking and collision labels for the training set.\\n\\ngameKey: the ID code for the game.\\n\\nplayID: the ID code for the play.\\n\\nview: the camera orientation.\\n\\nvideo: the filename of the associated video.\\n\\nframe: the frame number for this play.\\n\\nlabel: the associate player's number.\\n\\n[left/width/top/height]: the specification of the bounding box of the prediction.\\n\\nimpact: an indicator (1 = helmet impact) for bounding boxes associated with helmet impacts\\n\\nimpactType: a description of the type of helmet impact: helmet, shoulder, body, ground, etc.\\n\\nconfidence: 1 = Possible, 2 = Definitive, 3 = Definitive and Obvious\\n\\nvisibility: 0 = Not Visible from View, 1 = Minimum, 2 = Visible, 3 = Clearly Visible\\n\""
      ]
     },
     "execution_count": 9,
     "metadata": {},
     "output_type": "execute_result"
    }
   ],
   "source": [
    "\"\"\"\n",
    "train_labels.csv Helmet tracking and collision labels for the training set.\n",
    "\n",
    "gameKey: the ID code for the game.\n",
    "\n",
    "playID: the ID code for the play.\n",
    "\n",
    "view: the camera orientation.\n",
    "\n",
    "video: the filename of the associated video.\n",
    "\n",
    "frame: the frame number for this play.\n",
    "\n",
    "label: the associate player's number.\n",
    "\n",
    "[left/width/top/height]: the specification of the bounding box of the prediction.\n",
    "\n",
    "impact: an indicator (1 = helmet impact) for bounding boxes associated with helmet impacts\n",
    "\n",
    "impactType: a description of the type of helmet impact: helmet, shoulder, body, ground, etc.\n",
    "\n",
    "confidence: 1 = Possible, 2 = Definitive, 3 = Definitive and Obvious\n",
    "\n",
    "visibility: 0 = Not Visible from View, 1 = Minimum, 2 = Visible, 3 = Clearly Visible\n",
    "\"\"\""
   ]
  },
  {
   "cell_type": "markdown",
   "metadata": {},
   "source": [
    "### image_labels"
   ]
  },
  {
   "cell_type": "code",
   "execution_count": 10,
   "metadata": {},
   "outputs": [
    {
     "data": {
      "text/plain": [
       "'\\nimage_labels.csv contains the bounding boxes corresponding to the images.\\n\\nimage: the image file name.\\n\\nlabel: the label type.\\n\\n[left/width/top/height]: the specification of the bounding box of the label, with left=0 and top=0 being the top left corner.\\n'"
      ]
     },
     "execution_count": 10,
     "metadata": {},
     "output_type": "execute_result"
    }
   ],
   "source": [
    "\"\"\"\n",
    "image_labels.csv contains the bounding boxes corresponding to the images.\n",
    "\n",
    "image: the image file name.\n",
    "\n",
    "label: the label type.\n",
    "\n",
    "[left/width/top/height]: the specification of the bounding box of the label, with left=0 and top=0 being the top left corner.\n",
    "\"\"\""
   ]
  },
  {
   "cell_type": "markdown",
   "metadata": {},
   "source": [
    "### train/test tracking"
   ]
  },
  {
   "cell_type": "code",
   "execution_count": 11,
   "metadata": {},
   "outputs": [
    {
     "data": {
      "text/plain": [
       "\"train/test]_player_tracking.csv Each player wears a sensor that allows us to precisely locate them on the field; that information is reported in these two files.\\n\\ngameKey: the ID code for the game.\\n\\nplayID: the ID code for the play.\\n\\nplayer: the player's ID code.\\n\\ntime: timestamp at 10 Hz.\\n\\nx: player position along the long axis of the field. See figure below.\\n\\ny: player position along the short axis of the field. See figure below.\\n\\ns: speed in yards/second.\\n\\na: acceleration in yards/second^2.\\n\\ndis: distance traveled from prior time point, in yards.\\n\\no: orientation of player (deg).\\n\\ndir: angle of player motion (deg).\\n\\nevent: game events like a snap, whistle, etc.\\n\""
      ]
     },
     "execution_count": 11,
     "metadata": {},
     "output_type": "execute_result"
    }
   ],
   "source": [
    "\"\"\"train/test]_player_tracking.csv Each player wears a sensor that allows us to precisely locate them on the field; that information is reported in these two files.\n",
    "\n",
    "gameKey: the ID code for the game.\n",
    "\n",
    "playID: the ID code for the play.\n",
    "\n",
    "player: the player's ID code.\n",
    "\n",
    "time: timestamp at 10 Hz.\n",
    "\n",
    "x: player position along the long axis of the field. See figure below.\n",
    "\n",
    "y: player position along the short axis of the field. See figure below.\n",
    "\n",
    "s: speed in yards/second.\n",
    "\n",
    "a: acceleration in yards/second^2.\n",
    "\n",
    "dis: distance traveled from prior time point, in yards.\n",
    "\n",
    "o: orientation of player (deg).\n",
    "\n",
    "dir: angle of player motion (deg).\n",
    "\n",
    "event: game events like a snap, whistle, etc.\n",
    "\"\"\""
   ]
  },
  {
   "cell_type": "markdown",
   "metadata": {},
   "source": [
    "# Data analysis"
   ]
  },
  {
   "cell_type": "code",
   "execution_count": 12,
   "metadata": {},
   "outputs": [
    {
     "data": {
      "text/plain": [
       "9947"
      ]
     },
     "execution_count": 12,
     "metadata": {},
     "output_type": "execute_result"
    }
   ],
   "source": [
    "len(os.listdir(images_fp))"
   ]
  },
  {
   "cell_type": "code",
   "execution_count": 13,
   "metadata": {},
   "outputs": [
    {
     "data": {
      "text/plain": [
       "120"
      ]
     },
     "execution_count": 13,
     "metadata": {},
     "output_type": "execute_result"
    }
   ],
   "source": [
    "len(os.listdir(train_fp))"
   ]
  },
  {
   "cell_type": "code",
   "execution_count": 14,
   "metadata": {},
   "outputs": [
    {
     "data": {
      "text/plain": [
       "6"
      ]
     },
     "execution_count": 14,
     "metadata": {},
     "output_type": "execute_result"
    }
   ],
   "source": [
    "len(os.listdir(test_fp))"
   ]
  },
  {
   "cell_type": "code",
   "execution_count": 15,
   "metadata": {},
   "outputs": [],
   "source": [
    "# images\n",
    "# train videos\n",
    "# test videos\n",
    "# nflimpact - something strange"
   ]
  },
  {
   "cell_type": "code",
   "execution_count": 16,
   "metadata": {},
   "outputs": [],
   "source": [
    "fps= [sample_sub_fp, train_labels_fp, image_labels_fp, train_tracking_fp, test_tracking_fp]"
   ]
  },
  {
   "cell_type": "code",
   "execution_count": 17,
   "metadata": {},
   "outputs": [],
   "source": [
    "sub, train_labels, image_labels, train_tracking, test_tracking = [pd.read_csv(fp) for fp in fps]"
   ]
  },
  {
   "cell_type": "markdown",
   "metadata": {},
   "source": [
    "### sample submission"
   ]
  },
  {
   "cell_type": "code",
   "execution_count": 18,
   "metadata": {},
   "outputs": [
    {
     "data": {
      "text/html": [
       "<div>\n",
       "<style scoped>\n",
       "    .dataframe tbody tr th:only-of-type {\n",
       "        vertical-align: middle;\n",
       "    }\n",
       "\n",
       "    .dataframe tbody tr th {\n",
       "        vertical-align: top;\n",
       "    }\n",
       "\n",
       "    .dataframe thead th {\n",
       "        text-align: right;\n",
       "    }\n",
       "</style>\n",
       "<table border=\"1\" class=\"dataframe\">\n",
       "  <thead>\n",
       "    <tr style=\"text-align: right;\">\n",
       "      <th></th>\n",
       "      <th>gameKey</th>\n",
       "      <th>playID</th>\n",
       "      <th>view</th>\n",
       "      <th>video</th>\n",
       "      <th>frame</th>\n",
       "      <th>left</th>\n",
       "      <th>width</th>\n",
       "      <th>top</th>\n",
       "      <th>height</th>\n",
       "    </tr>\n",
       "  </thead>\n",
       "  <tbody>\n",
       "    <tr>\n",
       "      <th>0</th>\n",
       "      <td>57906</td>\n",
       "      <td>718</td>\n",
       "      <td>Endzone</td>\n",
       "      <td>57906_000718_Endzone.mp4</td>\n",
       "      <td>1</td>\n",
       "      <td>802</td>\n",
       "      <td>19</td>\n",
       "      <td>179</td>\n",
       "      <td>29</td>\n",
       "    </tr>\n",
       "    <tr>\n",
       "      <th>1</th>\n",
       "      <td>57906</td>\n",
       "      <td>718</td>\n",
       "      <td>Endzone</td>\n",
       "      <td>57906_000718_Endzone.mp4</td>\n",
       "      <td>1</td>\n",
       "      <td>622</td>\n",
       "      <td>19</td>\n",
       "      <td>274</td>\n",
       "      <td>29</td>\n",
       "    </tr>\n",
       "    <tr>\n",
       "      <th>2</th>\n",
       "      <td>57906</td>\n",
       "      <td>718</td>\n",
       "      <td>Endzone</td>\n",
       "      <td>57906_000718_Endzone.mp4</td>\n",
       "      <td>1</td>\n",
       "      <td>671</td>\n",
       "      <td>18</td>\n",
       "      <td>286</td>\n",
       "      <td>14</td>\n",
       "    </tr>\n",
       "    <tr>\n",
       "      <th>3</th>\n",
       "      <td>57906</td>\n",
       "      <td>718</td>\n",
       "      <td>Endzone</td>\n",
       "      <td>57906_000718_Endzone.mp4</td>\n",
       "      <td>1</td>\n",
       "      <td>437</td>\n",
       "      <td>19</td>\n",
       "      <td>269</td>\n",
       "      <td>26</td>\n",
       "    </tr>\n",
       "    <tr>\n",
       "      <th>4</th>\n",
       "      <td>57906</td>\n",
       "      <td>718</td>\n",
       "      <td>Endzone</td>\n",
       "      <td>57906_000718_Endzone.mp4</td>\n",
       "      <td>1</td>\n",
       "      <td>321</td>\n",
       "      <td>24</td>\n",
       "      <td>252</td>\n",
       "      <td>27</td>\n",
       "    </tr>\n",
       "  </tbody>\n",
       "</table>\n",
       "</div>"
      ],
      "text/plain": [
       "   gameKey  playID     view                     video  frame  left  width  \\\n",
       "0    57906     718  Endzone  57906_000718_Endzone.mp4      1   802     19   \n",
       "1    57906     718  Endzone  57906_000718_Endzone.mp4      1   622     19   \n",
       "2    57906     718  Endzone  57906_000718_Endzone.mp4      1   671     18   \n",
       "3    57906     718  Endzone  57906_000718_Endzone.mp4      1   437     19   \n",
       "4    57906     718  Endzone  57906_000718_Endzone.mp4      1   321     24   \n",
       "\n",
       "   top  height  \n",
       "0  179      29  \n",
       "1  274      29  \n",
       "2  286      14  \n",
       "3  269      26  \n",
       "4  252      27  "
      ]
     },
     "execution_count": 18,
     "metadata": {},
     "output_type": "execute_result"
    }
   ],
   "source": [
    "sub.head()"
   ]
  },
  {
   "cell_type": "markdown",
   "metadata": {},
   "source": [
    "### train labels"
   ]
  },
  {
   "cell_type": "code",
   "execution_count": 19,
   "metadata": {},
   "outputs": [
    {
     "data": {
      "text/html": [
       "<div>\n",
       "<style scoped>\n",
       "    .dataframe tbody tr th:only-of-type {\n",
       "        vertical-align: middle;\n",
       "    }\n",
       "\n",
       "    .dataframe tbody tr th {\n",
       "        vertical-align: top;\n",
       "    }\n",
       "\n",
       "    .dataframe thead th {\n",
       "        text-align: right;\n",
       "    }\n",
       "</style>\n",
       "<table border=\"1\" class=\"dataframe\">\n",
       "  <thead>\n",
       "    <tr style=\"text-align: right;\">\n",
       "      <th></th>\n",
       "      <th>gameKey</th>\n",
       "      <th>playID</th>\n",
       "      <th>view</th>\n",
       "      <th>video</th>\n",
       "      <th>frame</th>\n",
       "      <th>label</th>\n",
       "      <th>left</th>\n",
       "      <th>width</th>\n",
       "      <th>top</th>\n",
       "      <th>height</th>\n",
       "      <th>impact</th>\n",
       "      <th>impactType</th>\n",
       "      <th>confidence</th>\n",
       "      <th>visibility</th>\n",
       "    </tr>\n",
       "  </thead>\n",
       "  <tbody>\n",
       "    <tr>\n",
       "      <th>0</th>\n",
       "      <td>57583</td>\n",
       "      <td>82</td>\n",
       "      <td>Endzone</td>\n",
       "      <td>57583_000082_Endzone.mp4</td>\n",
       "      <td>1</td>\n",
       "      <td>H30</td>\n",
       "      <td>629</td>\n",
       "      <td>19</td>\n",
       "      <td>40</td>\n",
       "      <td>24</td>\n",
       "      <td>NaN</td>\n",
       "      <td>NaN</td>\n",
       "      <td>NaN</td>\n",
       "      <td>NaN</td>\n",
       "    </tr>\n",
       "    <tr>\n",
       "      <th>1</th>\n",
       "      <td>57583</td>\n",
       "      <td>82</td>\n",
       "      <td>Endzone</td>\n",
       "      <td>57583_000082_Endzone.mp4</td>\n",
       "      <td>1</td>\n",
       "      <td>V72</td>\n",
       "      <td>443</td>\n",
       "      <td>22</td>\n",
       "      <td>344</td>\n",
       "      <td>16</td>\n",
       "      <td>NaN</td>\n",
       "      <td>NaN</td>\n",
       "      <td>NaN</td>\n",
       "      <td>NaN</td>\n",
       "    </tr>\n",
       "    <tr>\n",
       "      <th>2</th>\n",
       "      <td>57583</td>\n",
       "      <td>82</td>\n",
       "      <td>Endzone</td>\n",
       "      <td>57583_000082_Endzone.mp4</td>\n",
       "      <td>1</td>\n",
       "      <td>V86</td>\n",
       "      <td>871</td>\n",
       "      <td>21</td>\n",
       "      <td>359</td>\n",
       "      <td>17</td>\n",
       "      <td>NaN</td>\n",
       "      <td>NaN</td>\n",
       "      <td>NaN</td>\n",
       "      <td>NaN</td>\n",
       "    </tr>\n",
       "    <tr>\n",
       "      <th>3</th>\n",
       "      <td>57583</td>\n",
       "      <td>82</td>\n",
       "      <td>Endzone</td>\n",
       "      <td>57583_000082_Endzone.mp4</td>\n",
       "      <td>1</td>\n",
       "      <td>V74</td>\n",
       "      <td>771</td>\n",
       "      <td>19</td>\n",
       "      <td>345</td>\n",
       "      <td>15</td>\n",
       "      <td>NaN</td>\n",
       "      <td>NaN</td>\n",
       "      <td>NaN</td>\n",
       "      <td>NaN</td>\n",
       "    </tr>\n",
       "    <tr>\n",
       "      <th>4</th>\n",
       "      <td>57583</td>\n",
       "      <td>82</td>\n",
       "      <td>Endzone</td>\n",
       "      <td>57583_000082_Endzone.mp4</td>\n",
       "      <td>1</td>\n",
       "      <td>V34</td>\n",
       "      <td>549</td>\n",
       "      <td>26</td>\n",
       "      <td>461</td>\n",
       "      <td>20</td>\n",
       "      <td>NaN</td>\n",
       "      <td>NaN</td>\n",
       "      <td>NaN</td>\n",
       "      <td>NaN</td>\n",
       "    </tr>\n",
       "  </tbody>\n",
       "</table>\n",
       "</div>"
      ],
      "text/plain": [
       "   gameKey  playID     view                     video  frame label  left  \\\n",
       "0    57583      82  Endzone  57583_000082_Endzone.mp4      1   H30   629   \n",
       "1    57583      82  Endzone  57583_000082_Endzone.mp4      1   V72   443   \n",
       "2    57583      82  Endzone  57583_000082_Endzone.mp4      1   V86   871   \n",
       "3    57583      82  Endzone  57583_000082_Endzone.mp4      1   V74   771   \n",
       "4    57583      82  Endzone  57583_000082_Endzone.mp4      1   V34   549   \n",
       "\n",
       "   width  top  height  impact impactType  confidence  visibility  \n",
       "0     19   40      24     NaN        NaN         NaN         NaN  \n",
       "1     22  344      16     NaN        NaN         NaN         NaN  \n",
       "2     21  359      17     NaN        NaN         NaN         NaN  \n",
       "3     19  345      15     NaN        NaN         NaN         NaN  \n",
       "4     26  461      20     NaN        NaN         NaN         NaN  "
      ]
     },
     "execution_count": 19,
     "metadata": {},
     "output_type": "execute_result"
    }
   ],
   "source": [
    "train_labels.head()"
   ]
  },
  {
   "cell_type": "code",
   "execution_count": 20,
   "metadata": {},
   "outputs": [
    {
     "data": {
      "text/plain": [
       "Helmet      1553\n",
       "Shoulder     346\n",
       "Body         332\n",
       "Ground        56\n",
       "shoulder       2\n",
       "Hand           2\n",
       "Name: impactType, dtype: int64"
      ]
     },
     "execution_count": 20,
     "metadata": {},
     "output_type": "execute_result"
    }
   ],
   "source": [
    "train_labels['impactType'].value_counts()"
   ]
  },
  {
   "cell_type": "code",
   "execution_count": 21,
   "metadata": {},
   "outputs": [
    {
     "data": {
      "text/plain": [
       "983885"
      ]
     },
     "execution_count": 21,
     "metadata": {},
     "output_type": "execute_result"
    }
   ],
   "source": [
    "len(train_labels)"
   ]
  },
  {
   "cell_type": "code",
   "execution_count": 22,
   "metadata": {},
   "outputs": [
    {
     "data": {
      "text/plain": [
       "120"
      ]
     },
     "execution_count": 22,
     "metadata": {},
     "output_type": "execute_result"
    }
   ],
   "source": [
    "len(train_labels['video'].unique())"
   ]
  },
  {
   "cell_type": "code",
   "execution_count": 23,
   "metadata": {},
   "outputs": [
    {
     "data": {
      "text/plain": [
       "52142"
      ]
     },
     "execution_count": 23,
     "metadata": {},
     "output_type": "execute_result"
    }
   ],
   "source": [
    "len(train_labels.drop_duplicates(['video', 'frame']))"
   ]
  },
  {
   "cell_type": "code",
   "execution_count": 24,
   "metadata": {},
   "outputs": [
    {
     "data": {
      "text/plain": [
       "video\n",
       "57583_000082_Endzone.mp4     472\n",
       "57583_000082_Sideline.mp4    471\n",
       "57584_000336_Endzone.mp4     615\n",
       "57584_000336_Sideline.mp4    617\n",
       "57584_002674_Endzone.mp4     421\n",
       "                            ... \n",
       "58104_000352_Sideline.mp4    350\n",
       "58106_002918_Endzone.mp4     549\n",
       "58106_002918_Sideline.mp4    548\n",
       "58107_004362_Endzone.mp4     473\n",
       "58107_004362_Sideline.mp4    473\n",
       "Length: 120, dtype: int64"
      ]
     },
     "execution_count": 24,
     "metadata": {},
     "output_type": "execute_result"
    }
   ],
   "source": [
    "train_labels.drop_duplicates(['video', 'frame']).groupby('video').size()"
   ]
  },
  {
   "cell_type": "code",
   "execution_count": null,
   "metadata": {},
   "outputs": [],
   "source": []
  },
  {
   "cell_type": "code",
   "execution_count": 25,
   "metadata": {},
   "outputs": [],
   "source": [
    "video_names = train_labels['video'].unique().tolist()"
   ]
  },
  {
   "cell_type": "code",
   "execution_count": 26,
   "metadata": {},
   "outputs": [],
   "source": [
    "video_idxs_1 = set(['_'.join(name.split('_')[:2]) for name in video_names])"
   ]
  },
  {
   "cell_type": "code",
   "execution_count": 27,
   "metadata": {},
   "outputs": [
    {
     "data": {
      "text/plain": [
       "60"
      ]
     },
     "execution_count": 27,
     "metadata": {},
     "output_type": "execute_result"
    }
   ],
   "source": [
    "len(video_idxs_1)"
   ]
  },
  {
   "cell_type": "code",
   "execution_count": 28,
   "metadata": {},
   "outputs": [
    {
     "data": {
      "text/plain": [
       "Helmet      0.677870\n",
       "Shoulder    0.151026\n",
       "Body        0.144915\n",
       "Ground      0.024443\n",
       "shoulder    0.000873\n",
       "Hand        0.000873\n",
       "Name: impactType, dtype: float64"
      ]
     },
     "execution_count": 28,
     "metadata": {},
     "output_type": "execute_result"
    }
   ],
   "source": [
    "train_labels['impactType'].value_counts(normalize=True)"
   ]
  },
  {
   "cell_type": "code",
   "execution_count": 29,
   "metadata": {},
   "outputs": [
    {
     "data": {
      "text/plain": [
       "Helmet      0.790679\n",
       "Shoulder    0.161079\n",
       "Body        0.046607\n",
       "Ground      0.001635\n",
       "Name: impactType, dtype: float64"
      ]
     },
     "execution_count": 29,
     "metadata": {},
     "output_type": "execute_result"
    }
   ],
   "source": [
    "train_labels[(train_labels['frame'] >=30) & (train_labels['frame'] <= 100)]['impactType'].value_counts(normalize=True)"
   ]
  },
  {
   "cell_type": "code",
   "execution_count": 30,
   "metadata": {},
   "outputs": [],
   "source": [
    "impact = train_labels.query(\"impact == 1 and confidence > 1 and visibility > 0\")"
   ]
  },
  {
   "cell_type": "code",
   "execution_count": 31,
   "metadata": {},
   "outputs": [
    {
     "data": {
      "text/plain": [
       "0.0031779661016949155"
      ]
     },
     "execution_count": 31,
     "metadata": {},
     "output_type": "execute_result"
    }
   ],
   "source": [
    "len(impact[(impact['frame'] >0) & (impact['frame'] <= 30)])/len(impact)"
   ]
  },
  {
   "cell_type": "code",
   "execution_count": 32,
   "metadata": {},
   "outputs": [
    {
     "data": {
      "text/plain": [
       "0.5323093220338984"
      ]
     },
     "execution_count": 32,
     "metadata": {},
     "output_type": "execute_result"
    }
   ],
   "source": [
    "len(impact[(impact['frame'] >30) & (impact['frame'] <= 90)])/len(impact)"
   ]
  },
  {
   "cell_type": "code",
   "execution_count": 33,
   "metadata": {},
   "outputs": [
    {
     "data": {
      "text/plain": [
       "0.4645127118644068"
      ]
     },
     "execution_count": 33,
     "metadata": {},
     "output_type": "execute_result"
    }
   ],
   "source": [
    "len(impact[(impact['frame'] >=91) & (impact['frame'] <= 10000)])/len(impact)"
   ]
  },
  {
   "cell_type": "markdown",
   "metadata": {},
   "source": [
    "### image labels"
   ]
  },
  {
   "cell_type": "code",
   "execution_count": 34,
   "metadata": {},
   "outputs": [
    {
     "data": {
      "text/html": [
       "<div>\n",
       "<style scoped>\n",
       "    .dataframe tbody tr th:only-of-type {\n",
       "        vertical-align: middle;\n",
       "    }\n",
       "\n",
       "    .dataframe tbody tr th {\n",
       "        vertical-align: top;\n",
       "    }\n",
       "\n",
       "    .dataframe thead th {\n",
       "        text-align: right;\n",
       "    }\n",
       "</style>\n",
       "<table border=\"1\" class=\"dataframe\">\n",
       "  <thead>\n",
       "    <tr style=\"text-align: right;\">\n",
       "      <th></th>\n",
       "      <th>image</th>\n",
       "      <th>label</th>\n",
       "      <th>left</th>\n",
       "      <th>width</th>\n",
       "      <th>top</th>\n",
       "      <th>height</th>\n",
       "    </tr>\n",
       "  </thead>\n",
       "  <tbody>\n",
       "    <tr>\n",
       "      <th>50</th>\n",
       "      <td>57503_000116_Sideline_frame490.jpg</td>\n",
       "      <td>Helmet-Sideline</td>\n",
       "      <td>265</td>\n",
       "      <td>13</td>\n",
       "      <td>668</td>\n",
       "      <td>14</td>\n",
       "    </tr>\n",
       "    <tr>\n",
       "      <th>51</th>\n",
       "      <td>57503_000116_Sideline_frame490.jpg</td>\n",
       "      <td>Helmet-Sideline</td>\n",
       "      <td>239</td>\n",
       "      <td>14</td>\n",
       "      <td>692</td>\n",
       "      <td>15</td>\n",
       "    </tr>\n",
       "    <tr>\n",
       "      <th>52</th>\n",
       "      <td>57503_000116_Sideline_frame490.jpg</td>\n",
       "      <td>Helmet-Sideline</td>\n",
       "      <td>172</td>\n",
       "      <td>13</td>\n",
       "      <td>686</td>\n",
       "      <td>14</td>\n",
       "    </tr>\n",
       "    <tr>\n",
       "      <th>53</th>\n",
       "      <td>57503_000116_Sideline_frame490.jpg</td>\n",
       "      <td>Helmet-Blurred</td>\n",
       "      <td>1198</td>\n",
       "      <td>12</td>\n",
       "      <td>322</td>\n",
       "      <td>12</td>\n",
       "    </tr>\n",
       "    <tr>\n",
       "      <th>54</th>\n",
       "      <td>57503_001581_Endzone_frame327.jpg</td>\n",
       "      <td>Helmet</td>\n",
       "      <td>1085</td>\n",
       "      <td>27</td>\n",
       "      <td>142</td>\n",
       "      <td>32</td>\n",
       "    </tr>\n",
       "    <tr>\n",
       "      <th>55</th>\n",
       "      <td>57503_001581_Endzone_frame327.jpg</td>\n",
       "      <td>Helmet</td>\n",
       "      <td>869</td>\n",
       "      <td>27</td>\n",
       "      <td>381</td>\n",
       "      <td>28</td>\n",
       "    </tr>\n",
       "    <tr>\n",
       "      <th>56</th>\n",
       "      <td>57503_001581_Endzone_frame327.jpg</td>\n",
       "      <td>Helmet</td>\n",
       "      <td>722</td>\n",
       "      <td>27</td>\n",
       "      <td>335</td>\n",
       "      <td>27</td>\n",
       "    </tr>\n",
       "    <tr>\n",
       "      <th>57</th>\n",
       "      <td>57503_001581_Endzone_frame327.jpg</td>\n",
       "      <td>Helmet</td>\n",
       "      <td>710</td>\n",
       "      <td>24</td>\n",
       "      <td>323</td>\n",
       "      <td>28</td>\n",
       "    </tr>\n",
       "    <tr>\n",
       "      <th>58</th>\n",
       "      <td>57503_001581_Endzone_frame327.jpg</td>\n",
       "      <td>Helmet</td>\n",
       "      <td>672</td>\n",
       "      <td>26</td>\n",
       "      <td>308</td>\n",
       "      <td>29</td>\n",
       "    </tr>\n",
       "    <tr>\n",
       "      <th>59</th>\n",
       "      <td>57503_001581_Endzone_frame327.jpg</td>\n",
       "      <td>Helmet</td>\n",
       "      <td>688</td>\n",
       "      <td>28</td>\n",
       "      <td>265</td>\n",
       "      <td>27</td>\n",
       "    </tr>\n",
       "    <tr>\n",
       "      <th>60</th>\n",
       "      <td>57503_001581_Endzone_frame327.jpg</td>\n",
       "      <td>Helmet</td>\n",
       "      <td>636</td>\n",
       "      <td>30</td>\n",
       "      <td>314</td>\n",
       "      <td>33</td>\n",
       "    </tr>\n",
       "    <tr>\n",
       "      <th>61</th>\n",
       "      <td>57503_001581_Endzone_frame327.jpg</td>\n",
       "      <td>Helmet</td>\n",
       "      <td>655</td>\n",
       "      <td>30</td>\n",
       "      <td>293</td>\n",
       "      <td>28</td>\n",
       "    </tr>\n",
       "    <tr>\n",
       "      <th>62</th>\n",
       "      <td>57503_001581_Endzone_frame327.jpg</td>\n",
       "      <td>Helmet</td>\n",
       "      <td>610</td>\n",
       "      <td>28</td>\n",
       "      <td>359</td>\n",
       "      <td>28</td>\n",
       "    </tr>\n",
       "    <tr>\n",
       "      <th>63</th>\n",
       "      <td>57503_001581_Endzone_frame327.jpg</td>\n",
       "      <td>Helmet</td>\n",
       "      <td>511</td>\n",
       "      <td>30</td>\n",
       "      <td>355</td>\n",
       "      <td>29</td>\n",
       "    </tr>\n",
       "    <tr>\n",
       "      <th>64</th>\n",
       "      <td>57503_001581_Endzone_frame327.jpg</td>\n",
       "      <td>Helmet</td>\n",
       "      <td>452</td>\n",
       "      <td>29</td>\n",
       "      <td>356</td>\n",
       "      <td>30</td>\n",
       "    </tr>\n",
       "    <tr>\n",
       "      <th>65</th>\n",
       "      <td>57503_001581_Endzone_frame327.jpg</td>\n",
       "      <td>Helmet</td>\n",
       "      <td>418</td>\n",
       "      <td>31</td>\n",
       "      <td>305</td>\n",
       "      <td>29</td>\n",
       "    </tr>\n",
       "    <tr>\n",
       "      <th>66</th>\n",
       "      <td>57503_001581_Endzone_frame327.jpg</td>\n",
       "      <td>Helmet</td>\n",
       "      <td>389</td>\n",
       "      <td>28</td>\n",
       "      <td>335</td>\n",
       "      <td>28</td>\n",
       "    </tr>\n",
       "    <tr>\n",
       "      <th>67</th>\n",
       "      <td>57503_001581_Endzone_frame327.jpg</td>\n",
       "      <td>Helmet-Sideline</td>\n",
       "      <td>256</td>\n",
       "      <td>29</td>\n",
       "      <td>354</td>\n",
       "      <td>31</td>\n",
       "    </tr>\n",
       "    <tr>\n",
       "      <th>68</th>\n",
       "      <td>57503_001581_Endzone_frame327.jpg</td>\n",
       "      <td>Helmet</td>\n",
       "      <td>257</td>\n",
       "      <td>27</td>\n",
       "      <td>396</td>\n",
       "      <td>32</td>\n",
       "    </tr>\n",
       "    <tr>\n",
       "      <th>69</th>\n",
       "      <td>57503_001581_Endzone_frame327.jpg</td>\n",
       "      <td>Helmet</td>\n",
       "      <td>208</td>\n",
       "      <td>25</td>\n",
       "      <td>444</td>\n",
       "      <td>25</td>\n",
       "    </tr>\n",
       "    <tr>\n",
       "      <th>70</th>\n",
       "      <td>57503_001581_Endzone_frame327.jpg</td>\n",
       "      <td>Helmet</td>\n",
       "      <td>167</td>\n",
       "      <td>29</td>\n",
       "      <td>497</td>\n",
       "      <td>31</td>\n",
       "    </tr>\n",
       "    <tr>\n",
       "      <th>71</th>\n",
       "      <td>57503_001581_Endzone_frame327.jpg</td>\n",
       "      <td>Helmet-Sideline</td>\n",
       "      <td>80</td>\n",
       "      <td>28</td>\n",
       "      <td>367</td>\n",
       "      <td>26</td>\n",
       "    </tr>\n",
       "    <tr>\n",
       "      <th>72</th>\n",
       "      <td>57503_001581_Endzone_frame327.jpg</td>\n",
       "      <td>Helmet-Sideline</td>\n",
       "      <td>169</td>\n",
       "      <td>33</td>\n",
       "      <td>338</td>\n",
       "      <td>30</td>\n",
       "    </tr>\n",
       "    <tr>\n",
       "      <th>73</th>\n",
       "      <td>57503_001581_Endzone_frame327.jpg</td>\n",
       "      <td>Helmet-Sideline</td>\n",
       "      <td>91</td>\n",
       "      <td>30</td>\n",
       "      <td>322</td>\n",
       "      <td>29</td>\n",
       "    </tr>\n",
       "    <tr>\n",
       "      <th>74</th>\n",
       "      <td>57503_001581_Endzone_frame327.jpg</td>\n",
       "      <td>Helmet-Sideline</td>\n",
       "      <td>24</td>\n",
       "      <td>35</td>\n",
       "      <td>353</td>\n",
       "      <td>28</td>\n",
       "    </tr>\n",
       "    <tr>\n",
       "      <th>75</th>\n",
       "      <td>57503_001581_Endzone_frame327.jpg</td>\n",
       "      <td>Helmet</td>\n",
       "      <td>412</td>\n",
       "      <td>27</td>\n",
       "      <td>493</td>\n",
       "      <td>27</td>\n",
       "    </tr>\n",
       "    <tr>\n",
       "      <th>76</th>\n",
       "      <td>57503_001581_Sideline_frame88.jpg</td>\n",
       "      <td>Helmet</td>\n",
       "      <td>1060</td>\n",
       "      <td>16</td>\n",
       "      <td>543</td>\n",
       "      <td>16</td>\n",
       "    </tr>\n",
       "    <tr>\n",
       "      <th>77</th>\n",
       "      <td>57503_001581_Sideline_frame88.jpg</td>\n",
       "      <td>Helmet</td>\n",
       "      <td>952</td>\n",
       "      <td>15</td>\n",
       "      <td>543</td>\n",
       "      <td>15</td>\n",
       "    </tr>\n",
       "    <tr>\n",
       "      <th>78</th>\n",
       "      <td>57503_001581_Sideline_frame88.jpg</td>\n",
       "      <td>Helmet</td>\n",
       "      <td>913</td>\n",
       "      <td>16</td>\n",
       "      <td>378</td>\n",
       "      <td>16</td>\n",
       "    </tr>\n",
       "    <tr>\n",
       "      <th>79</th>\n",
       "      <td>57503_001581_Sideline_frame88.jpg</td>\n",
       "      <td>Helmet</td>\n",
       "      <td>779</td>\n",
       "      <td>14</td>\n",
       "      <td>389</td>\n",
       "      <td>15</td>\n",
       "    </tr>\n",
       "    <tr>\n",
       "      <th>80</th>\n",
       "      <td>57503_001581_Sideline_frame88.jpg</td>\n",
       "      <td>Helmet</td>\n",
       "      <td>903</td>\n",
       "      <td>17</td>\n",
       "      <td>269</td>\n",
       "      <td>17</td>\n",
       "    </tr>\n",
       "    <tr>\n",
       "      <th>81</th>\n",
       "      <td>57503_001581_Sideline_frame88.jpg</td>\n",
       "      <td>Helmet</td>\n",
       "      <td>864</td>\n",
       "      <td>14</td>\n",
       "      <td>258</td>\n",
       "      <td>16</td>\n",
       "    </tr>\n",
       "    <tr>\n",
       "      <th>82</th>\n",
       "      <td>57503_001581_Sideline_frame88.jpg</td>\n",
       "      <td>Helmet</td>\n",
       "      <td>987</td>\n",
       "      <td>15</td>\n",
       "      <td>254</td>\n",
       "      <td>17</td>\n",
       "    </tr>\n",
       "    <tr>\n",
       "      <th>83</th>\n",
       "      <td>57503_001581_Sideline_frame88.jpg</td>\n",
       "      <td>Helmet</td>\n",
       "      <td>948</td>\n",
       "      <td>13</td>\n",
       "      <td>244</td>\n",
       "      <td>17</td>\n",
       "    </tr>\n",
       "    <tr>\n",
       "      <th>84</th>\n",
       "      <td>57503_001581_Sideline_frame88.jpg</td>\n",
       "      <td>Helmet</td>\n",
       "      <td>932</td>\n",
       "      <td>14</td>\n",
       "      <td>192</td>\n",
       "      <td>15</td>\n",
       "    </tr>\n",
       "    <tr>\n",
       "      <th>85</th>\n",
       "      <td>57503_001581_Sideline_frame88.jpg</td>\n",
       "      <td>Helmet</td>\n",
       "      <td>879</td>\n",
       "      <td>15</td>\n",
       "      <td>295</td>\n",
       "      <td>17</td>\n",
       "    </tr>\n",
       "    <tr>\n",
       "      <th>86</th>\n",
       "      <td>57503_001581_Sideline_frame88.jpg</td>\n",
       "      <td>Helmet</td>\n",
       "      <td>827</td>\n",
       "      <td>14</td>\n",
       "      <td>237</td>\n",
       "      <td>16</td>\n",
       "    </tr>\n",
       "    <tr>\n",
       "      <th>87</th>\n",
       "      <td>57503_001581_Sideline_frame88.jpg</td>\n",
       "      <td>Helmet</td>\n",
       "      <td>801</td>\n",
       "      <td>16</td>\n",
       "      <td>213</td>\n",
       "      <td>16</td>\n",
       "    </tr>\n",
       "    <tr>\n",
       "      <th>88</th>\n",
       "      <td>57503_001581_Sideline_frame88.jpg</td>\n",
       "      <td>Helmet</td>\n",
       "      <td>804</td>\n",
       "      <td>15</td>\n",
       "      <td>186</td>\n",
       "      <td>14</td>\n",
       "    </tr>\n",
       "    <tr>\n",
       "      <th>89</th>\n",
       "      <td>57503_001581_Sideline_frame88.jpg</td>\n",
       "      <td>Helmet</td>\n",
       "      <td>771</td>\n",
       "      <td>14</td>\n",
       "      <td>212</td>\n",
       "      <td>15</td>\n",
       "    </tr>\n",
       "    <tr>\n",
       "      <th>90</th>\n",
       "      <td>57503_001581_Sideline_frame88.jpg</td>\n",
       "      <td>Helmet</td>\n",
       "      <td>744</td>\n",
       "      <td>14</td>\n",
       "      <td>181</td>\n",
       "      <td>14</td>\n",
       "    </tr>\n",
       "    <tr>\n",
       "      <th>91</th>\n",
       "      <td>57503_001581_Sideline_frame88.jpg</td>\n",
       "      <td>Helmet</td>\n",
       "      <td>626</td>\n",
       "      <td>15</td>\n",
       "      <td>209</td>\n",
       "      <td>16</td>\n",
       "    </tr>\n",
       "    <tr>\n",
       "      <th>92</th>\n",
       "      <td>57503_001581_Sideline_frame88.jpg</td>\n",
       "      <td>Helmet</td>\n",
       "      <td>578</td>\n",
       "      <td>13</td>\n",
       "      <td>88</td>\n",
       "      <td>14</td>\n",
       "    </tr>\n",
       "    <tr>\n",
       "      <th>93</th>\n",
       "      <td>57503_001581_Sideline_frame88.jpg</td>\n",
       "      <td>Helmet</td>\n",
       "      <td>598</td>\n",
       "      <td>14</td>\n",
       "      <td>79</td>\n",
       "      <td>16</td>\n",
       "    </tr>\n",
       "    <tr>\n",
       "      <th>94</th>\n",
       "      <td>57503_001581_Sideline_frame88.jpg</td>\n",
       "      <td>Helmet</td>\n",
       "      <td>581</td>\n",
       "      <td>14</td>\n",
       "      <td>308</td>\n",
       "      <td>14</td>\n",
       "    </tr>\n",
       "    <tr>\n",
       "      <th>95</th>\n",
       "      <td>57503_001581_Sideline_frame88.jpg</td>\n",
       "      <td>Helmet</td>\n",
       "      <td>297</td>\n",
       "      <td>17</td>\n",
       "      <td>256</td>\n",
       "      <td>17</td>\n",
       "    </tr>\n",
       "    <tr>\n",
       "      <th>96</th>\n",
       "      <td>57503_001581_Sideline_frame88.jpg</td>\n",
       "      <td>Helmet</td>\n",
       "      <td>250</td>\n",
       "      <td>15</td>\n",
       "      <td>390</td>\n",
       "      <td>16</td>\n",
       "    </tr>\n",
       "    <tr>\n",
       "      <th>97</th>\n",
       "      <td>57503_001581_Sideline_frame88.jpg</td>\n",
       "      <td>Helmet</td>\n",
       "      <td>853</td>\n",
       "      <td>13</td>\n",
       "      <td>267</td>\n",
       "      <td>14</td>\n",
       "    </tr>\n",
       "    <tr>\n",
       "      <th>98</th>\n",
       "      <td>57503_003655_Endzone_frame115.jpg</td>\n",
       "      <td>Helmet</td>\n",
       "      <td>737</td>\n",
       "      <td>27</td>\n",
       "      <td>325</td>\n",
       "      <td>38</td>\n",
       "    </tr>\n",
       "    <tr>\n",
       "      <th>99</th>\n",
       "      <td>57503_003655_Endzone_frame115.jpg</td>\n",
       "      <td>Helmet</td>\n",
       "      <td>902</td>\n",
       "      <td>27</td>\n",
       "      <td>307</td>\n",
       "      <td>40</td>\n",
       "    </tr>\n",
       "  </tbody>\n",
       "</table>\n",
       "</div>"
      ],
      "text/plain": [
       "                                 image            label  left  width  top  \\\n",
       "50  57503_000116_Sideline_frame490.jpg  Helmet-Sideline   265     13  668   \n",
       "51  57503_000116_Sideline_frame490.jpg  Helmet-Sideline   239     14  692   \n",
       "52  57503_000116_Sideline_frame490.jpg  Helmet-Sideline   172     13  686   \n",
       "53  57503_000116_Sideline_frame490.jpg   Helmet-Blurred  1198     12  322   \n",
       "54   57503_001581_Endzone_frame327.jpg           Helmet  1085     27  142   \n",
       "55   57503_001581_Endzone_frame327.jpg           Helmet   869     27  381   \n",
       "56   57503_001581_Endzone_frame327.jpg           Helmet   722     27  335   \n",
       "57   57503_001581_Endzone_frame327.jpg           Helmet   710     24  323   \n",
       "58   57503_001581_Endzone_frame327.jpg           Helmet   672     26  308   \n",
       "59   57503_001581_Endzone_frame327.jpg           Helmet   688     28  265   \n",
       "60   57503_001581_Endzone_frame327.jpg           Helmet   636     30  314   \n",
       "61   57503_001581_Endzone_frame327.jpg           Helmet   655     30  293   \n",
       "62   57503_001581_Endzone_frame327.jpg           Helmet   610     28  359   \n",
       "63   57503_001581_Endzone_frame327.jpg           Helmet   511     30  355   \n",
       "64   57503_001581_Endzone_frame327.jpg           Helmet   452     29  356   \n",
       "65   57503_001581_Endzone_frame327.jpg           Helmet   418     31  305   \n",
       "66   57503_001581_Endzone_frame327.jpg           Helmet   389     28  335   \n",
       "67   57503_001581_Endzone_frame327.jpg  Helmet-Sideline   256     29  354   \n",
       "68   57503_001581_Endzone_frame327.jpg           Helmet   257     27  396   \n",
       "69   57503_001581_Endzone_frame327.jpg           Helmet   208     25  444   \n",
       "70   57503_001581_Endzone_frame327.jpg           Helmet   167     29  497   \n",
       "71   57503_001581_Endzone_frame327.jpg  Helmet-Sideline    80     28  367   \n",
       "72   57503_001581_Endzone_frame327.jpg  Helmet-Sideline   169     33  338   \n",
       "73   57503_001581_Endzone_frame327.jpg  Helmet-Sideline    91     30  322   \n",
       "74   57503_001581_Endzone_frame327.jpg  Helmet-Sideline    24     35  353   \n",
       "75   57503_001581_Endzone_frame327.jpg           Helmet   412     27  493   \n",
       "76   57503_001581_Sideline_frame88.jpg           Helmet  1060     16  543   \n",
       "77   57503_001581_Sideline_frame88.jpg           Helmet   952     15  543   \n",
       "78   57503_001581_Sideline_frame88.jpg           Helmet   913     16  378   \n",
       "79   57503_001581_Sideline_frame88.jpg           Helmet   779     14  389   \n",
       "80   57503_001581_Sideline_frame88.jpg           Helmet   903     17  269   \n",
       "81   57503_001581_Sideline_frame88.jpg           Helmet   864     14  258   \n",
       "82   57503_001581_Sideline_frame88.jpg           Helmet   987     15  254   \n",
       "83   57503_001581_Sideline_frame88.jpg           Helmet   948     13  244   \n",
       "84   57503_001581_Sideline_frame88.jpg           Helmet   932     14  192   \n",
       "85   57503_001581_Sideline_frame88.jpg           Helmet   879     15  295   \n",
       "86   57503_001581_Sideline_frame88.jpg           Helmet   827     14  237   \n",
       "87   57503_001581_Sideline_frame88.jpg           Helmet   801     16  213   \n",
       "88   57503_001581_Sideline_frame88.jpg           Helmet   804     15  186   \n",
       "89   57503_001581_Sideline_frame88.jpg           Helmet   771     14  212   \n",
       "90   57503_001581_Sideline_frame88.jpg           Helmet   744     14  181   \n",
       "91   57503_001581_Sideline_frame88.jpg           Helmet   626     15  209   \n",
       "92   57503_001581_Sideline_frame88.jpg           Helmet   578     13   88   \n",
       "93   57503_001581_Sideline_frame88.jpg           Helmet   598     14   79   \n",
       "94   57503_001581_Sideline_frame88.jpg           Helmet   581     14  308   \n",
       "95   57503_001581_Sideline_frame88.jpg           Helmet   297     17  256   \n",
       "96   57503_001581_Sideline_frame88.jpg           Helmet   250     15  390   \n",
       "97   57503_001581_Sideline_frame88.jpg           Helmet   853     13  267   \n",
       "98   57503_003655_Endzone_frame115.jpg           Helmet   737     27  325   \n",
       "99   57503_003655_Endzone_frame115.jpg           Helmet   902     27  307   \n",
       "\n",
       "    height  \n",
       "50      14  \n",
       "51      15  \n",
       "52      14  \n",
       "53      12  \n",
       "54      32  \n",
       "55      28  \n",
       "56      27  \n",
       "57      28  \n",
       "58      29  \n",
       "59      27  \n",
       "60      33  \n",
       "61      28  \n",
       "62      28  \n",
       "63      29  \n",
       "64      30  \n",
       "65      29  \n",
       "66      28  \n",
       "67      31  \n",
       "68      32  \n",
       "69      25  \n",
       "70      31  \n",
       "71      26  \n",
       "72      30  \n",
       "73      29  \n",
       "74      28  \n",
       "75      27  \n",
       "76      16  \n",
       "77      15  \n",
       "78      16  \n",
       "79      15  \n",
       "80      17  \n",
       "81      16  \n",
       "82      17  \n",
       "83      17  \n",
       "84      15  \n",
       "85      17  \n",
       "86      16  \n",
       "87      16  \n",
       "88      14  \n",
       "89      15  \n",
       "90      14  \n",
       "91      16  \n",
       "92      14  \n",
       "93      16  \n",
       "94      14  \n",
       "95      17  \n",
       "96      16  \n",
       "97      14  \n",
       "98      38  \n",
       "99      40  "
      ]
     },
     "execution_count": 34,
     "metadata": {},
     "output_type": "execute_result"
    }
   ],
   "source": [
    "image_labels[50:100]"
   ]
  },
  {
   "cell_type": "code",
   "execution_count": 35,
   "metadata": {},
   "outputs": [
    {
     "data": {
      "text/plain": [
       "Helmet              129764\n",
       "Helmet-Blurred       33544\n",
       "Helmet-Sideline      15037\n",
       "Helmet-Partial        8814\n",
       "Helmet-Difficult      6577\n",
       "Name: label, dtype: int64"
      ]
     },
     "execution_count": 35,
     "metadata": {},
     "output_type": "execute_result"
    }
   ],
   "source": [
    "image_labels['label'].value_counts()"
   ]
  },
  {
   "cell_type": "code",
   "execution_count": 36,
   "metadata": {},
   "outputs": [
    {
     "data": {
      "text/plain": [
       "9947"
      ]
     },
     "execution_count": 36,
     "metadata": {},
     "output_type": "execute_result"
    }
   ],
   "source": [
    "len(image_labels['image'].unique())"
   ]
  },
  {
   "cell_type": "code",
   "execution_count": 37,
   "metadata": {},
   "outputs": [
    {
     "data": {
      "text/plain": [
       "193736"
      ]
     },
     "execution_count": 37,
     "metadata": {},
     "output_type": "execute_result"
    }
   ],
   "source": [
    "len(image_labels)"
   ]
  },
  {
   "cell_type": "code",
   "execution_count": 38,
   "metadata": {},
   "outputs": [],
   "source": [
    "image_names = image_labels['image'].values.tolist()"
   ]
  },
  {
   "cell_type": "code",
   "execution_count": 39,
   "metadata": {},
   "outputs": [],
   "source": [
    "video_idxs_2 = set(['_'.join(name.split('_')[:2]) for name in image_names])"
   ]
  },
  {
   "cell_type": "code",
   "execution_count": 40,
   "metadata": {},
   "outputs": [
    {
     "data": {
      "text/plain": [
       "7361"
      ]
     },
     "execution_count": 40,
     "metadata": {},
     "output_type": "execute_result"
    }
   ],
   "source": [
    "len(video_idxs_2)"
   ]
  },
  {
   "cell_type": "code",
   "execution_count": 41,
   "metadata": {},
   "outputs": [
    {
     "data": {
      "text/plain": [
       "7360"
      ]
     },
     "execution_count": 41,
     "metadata": {},
     "output_type": "execute_result"
    }
   ],
   "source": [
    "len(video_idxs_2 - video_idxs_1)"
   ]
  },
  {
   "cell_type": "markdown",
   "metadata": {},
   "source": [
    "### train tracking"
   ]
  },
  {
   "cell_type": "code",
   "execution_count": 42,
   "metadata": {},
   "outputs": [
    {
     "data": {
      "text/plain": [
       "333811"
      ]
     },
     "execution_count": 42,
     "metadata": {},
     "output_type": "execute_result"
    }
   ],
   "source": [
    "len(train_tracking)"
   ]
  },
  {
   "cell_type": "code",
   "execution_count": 43,
   "metadata": {},
   "outputs": [
    {
     "data": {
      "text/html": [
       "<div>\n",
       "<style scoped>\n",
       "    .dataframe tbody tr th:only-of-type {\n",
       "        vertical-align: middle;\n",
       "    }\n",
       "\n",
       "    .dataframe tbody tr th {\n",
       "        vertical-align: top;\n",
       "    }\n",
       "\n",
       "    .dataframe thead th {\n",
       "        text-align: right;\n",
       "    }\n",
       "</style>\n",
       "<table border=\"1\" class=\"dataframe\">\n",
       "  <thead>\n",
       "    <tr style=\"text-align: right;\">\n",
       "      <th></th>\n",
       "      <th>gameKey</th>\n",
       "      <th>playID</th>\n",
       "      <th>player</th>\n",
       "      <th>time</th>\n",
       "      <th>x</th>\n",
       "      <th>y</th>\n",
       "      <th>s</th>\n",
       "      <th>a</th>\n",
       "      <th>dis</th>\n",
       "      <th>o</th>\n",
       "      <th>dir</th>\n",
       "      <th>event</th>\n",
       "    </tr>\n",
       "  </thead>\n",
       "  <tbody>\n",
       "    <tr>\n",
       "      <th>0</th>\n",
       "      <td>57583</td>\n",
       "      <td>82</td>\n",
       "      <td>H97</td>\n",
       "      <td>2018-09-14T00:23:45.500Z</td>\n",
       "      <td>38.89</td>\n",
       "      <td>28.06</td>\n",
       "      <td>0.0</td>\n",
       "      <td>0.0</td>\n",
       "      <td>0.00</td>\n",
       "      <td>261.28</td>\n",
       "      <td>222.79</td>\n",
       "      <td>NaN</td>\n",
       "    </tr>\n",
       "    <tr>\n",
       "      <th>1</th>\n",
       "      <td>57583</td>\n",
       "      <td>82</td>\n",
       "      <td>H97</td>\n",
       "      <td>2018-09-14T00:23:45.599Z</td>\n",
       "      <td>38.89</td>\n",
       "      <td>28.06</td>\n",
       "      <td>0.0</td>\n",
       "      <td>0.0</td>\n",
       "      <td>0.00</td>\n",
       "      <td>261.28</td>\n",
       "      <td>221.93</td>\n",
       "      <td>NaN</td>\n",
       "    </tr>\n",
       "    <tr>\n",
       "      <th>2</th>\n",
       "      <td>57583</td>\n",
       "      <td>82</td>\n",
       "      <td>H97</td>\n",
       "      <td>2018-09-14T00:23:45.700Z</td>\n",
       "      <td>38.89</td>\n",
       "      <td>28.06</td>\n",
       "      <td>0.0</td>\n",
       "      <td>0.0</td>\n",
       "      <td>0.00</td>\n",
       "      <td>261.28</td>\n",
       "      <td>221.21</td>\n",
       "      <td>NaN</td>\n",
       "    </tr>\n",
       "    <tr>\n",
       "      <th>3</th>\n",
       "      <td>57583</td>\n",
       "      <td>82</td>\n",
       "      <td>H97</td>\n",
       "      <td>2018-09-14T00:23:45.799Z</td>\n",
       "      <td>38.88</td>\n",
       "      <td>28.05</td>\n",
       "      <td>0.0</td>\n",
       "      <td>0.0</td>\n",
       "      <td>0.00</td>\n",
       "      <td>261.28</td>\n",
       "      <td>220.07</td>\n",
       "      <td>NaN</td>\n",
       "    </tr>\n",
       "    <tr>\n",
       "      <th>4</th>\n",
       "      <td>57583</td>\n",
       "      <td>82</td>\n",
       "      <td>H97</td>\n",
       "      <td>2018-09-14T00:23:45.900Z</td>\n",
       "      <td>38.88</td>\n",
       "      <td>28.05</td>\n",
       "      <td>0.0</td>\n",
       "      <td>0.0</td>\n",
       "      <td>0.00</td>\n",
       "      <td>261.28</td>\n",
       "      <td>220.31</td>\n",
       "      <td>NaN</td>\n",
       "    </tr>\n",
       "    <tr>\n",
       "      <th>5</th>\n",
       "      <td>57583</td>\n",
       "      <td>82</td>\n",
       "      <td>H97</td>\n",
       "      <td>2018-09-14T00:23:46.000Z</td>\n",
       "      <td>38.88</td>\n",
       "      <td>28.05</td>\n",
       "      <td>0.0</td>\n",
       "      <td>0.0</td>\n",
       "      <td>0.00</td>\n",
       "      <td>261.28</td>\n",
       "      <td>218.99</td>\n",
       "      <td>NaN</td>\n",
       "    </tr>\n",
       "    <tr>\n",
       "      <th>6</th>\n",
       "      <td>57583</td>\n",
       "      <td>82</td>\n",
       "      <td>H97</td>\n",
       "      <td>2018-09-14T00:23:46.099Z</td>\n",
       "      <td>38.88</td>\n",
       "      <td>28.05</td>\n",
       "      <td>0.0</td>\n",
       "      <td>0.0</td>\n",
       "      <td>0.00</td>\n",
       "      <td>261.28</td>\n",
       "      <td>222.44</td>\n",
       "      <td>NaN</td>\n",
       "    </tr>\n",
       "    <tr>\n",
       "      <th>7</th>\n",
       "      <td>57583</td>\n",
       "      <td>82</td>\n",
       "      <td>H97</td>\n",
       "      <td>2018-09-14T00:23:46.200Z</td>\n",
       "      <td>38.88</td>\n",
       "      <td>28.05</td>\n",
       "      <td>0.0</td>\n",
       "      <td>0.0</td>\n",
       "      <td>0.00</td>\n",
       "      <td>261.28</td>\n",
       "      <td>225.21</td>\n",
       "      <td>NaN</td>\n",
       "    </tr>\n",
       "    <tr>\n",
       "      <th>8</th>\n",
       "      <td>57583</td>\n",
       "      <td>82</td>\n",
       "      <td>H97</td>\n",
       "      <td>2018-09-14T00:23:46.299Z</td>\n",
       "      <td>38.88</td>\n",
       "      <td>28.05</td>\n",
       "      <td>0.0</td>\n",
       "      <td>0.0</td>\n",
       "      <td>0.00</td>\n",
       "      <td>261.28</td>\n",
       "      <td>225.91</td>\n",
       "      <td>NaN</td>\n",
       "    </tr>\n",
       "    <tr>\n",
       "      <th>9</th>\n",
       "      <td>57583</td>\n",
       "      <td>82</td>\n",
       "      <td>H97</td>\n",
       "      <td>2018-09-14T00:23:46.400Z</td>\n",
       "      <td>38.88</td>\n",
       "      <td>28.05</td>\n",
       "      <td>0.0</td>\n",
       "      <td>0.0</td>\n",
       "      <td>0.00</td>\n",
       "      <td>261.28</td>\n",
       "      <td>226.38</td>\n",
       "      <td>NaN</td>\n",
       "    </tr>\n",
       "    <tr>\n",
       "      <th>10</th>\n",
       "      <td>57583</td>\n",
       "      <td>82</td>\n",
       "      <td>H97</td>\n",
       "      <td>2018-09-14T00:23:46.500Z</td>\n",
       "      <td>38.87</td>\n",
       "      <td>28.05</td>\n",
       "      <td>0.0</td>\n",
       "      <td>0.0</td>\n",
       "      <td>0.00</td>\n",
       "      <td>261.28</td>\n",
       "      <td>231.01</td>\n",
       "      <td>NaN</td>\n",
       "    </tr>\n",
       "    <tr>\n",
       "      <th>11</th>\n",
       "      <td>57583</td>\n",
       "      <td>82</td>\n",
       "      <td>H97</td>\n",
       "      <td>2018-09-14T00:23:46.599Z</td>\n",
       "      <td>38.87</td>\n",
       "      <td>28.06</td>\n",
       "      <td>0.0</td>\n",
       "      <td>0.0</td>\n",
       "      <td>0.00</td>\n",
       "      <td>261.28</td>\n",
       "      <td>239.14</td>\n",
       "      <td>NaN</td>\n",
       "    </tr>\n",
       "    <tr>\n",
       "      <th>12</th>\n",
       "      <td>57583</td>\n",
       "      <td>82</td>\n",
       "      <td>H97</td>\n",
       "      <td>2018-09-14T00:23:46.700Z</td>\n",
       "      <td>38.87</td>\n",
       "      <td>28.06</td>\n",
       "      <td>0.0</td>\n",
       "      <td>0.0</td>\n",
       "      <td>0.00</td>\n",
       "      <td>261.28</td>\n",
       "      <td>240.61</td>\n",
       "      <td>NaN</td>\n",
       "    </tr>\n",
       "    <tr>\n",
       "      <th>13</th>\n",
       "      <td>57583</td>\n",
       "      <td>82</td>\n",
       "      <td>H97</td>\n",
       "      <td>2018-09-14T00:23:46.799Z</td>\n",
       "      <td>38.87</td>\n",
       "      <td>28.06</td>\n",
       "      <td>0.0</td>\n",
       "      <td>0.0</td>\n",
       "      <td>0.00</td>\n",
       "      <td>261.28</td>\n",
       "      <td>249.98</td>\n",
       "      <td>NaN</td>\n",
       "    </tr>\n",
       "    <tr>\n",
       "      <th>14</th>\n",
       "      <td>57583</td>\n",
       "      <td>82</td>\n",
       "      <td>H97</td>\n",
       "      <td>2018-09-14T00:23:46.900Z</td>\n",
       "      <td>38.87</td>\n",
       "      <td>28.07</td>\n",
       "      <td>0.0</td>\n",
       "      <td>0.0</td>\n",
       "      <td>0.01</td>\n",
       "      <td>261.28</td>\n",
       "      <td>271.06</td>\n",
       "      <td>NaN</td>\n",
       "    </tr>\n",
       "    <tr>\n",
       "      <th>15</th>\n",
       "      <td>57583</td>\n",
       "      <td>82</td>\n",
       "      <td>H97</td>\n",
       "      <td>2018-09-14T00:23:47.000Z</td>\n",
       "      <td>38.87</td>\n",
       "      <td>28.07</td>\n",
       "      <td>0.0</td>\n",
       "      <td>0.0</td>\n",
       "      <td>0.00</td>\n",
       "      <td>261.28</td>\n",
       "      <td>285.13</td>\n",
       "      <td>NaN</td>\n",
       "    </tr>\n",
       "    <tr>\n",
       "      <th>16</th>\n",
       "      <td>57583</td>\n",
       "      <td>82</td>\n",
       "      <td>H97</td>\n",
       "      <td>2018-09-14T00:23:47.099Z</td>\n",
       "      <td>38.87</td>\n",
       "      <td>28.07</td>\n",
       "      <td>0.0</td>\n",
       "      <td>0.0</td>\n",
       "      <td>0.01</td>\n",
       "      <td>261.96</td>\n",
       "      <td>297.55</td>\n",
       "      <td>NaN</td>\n",
       "    </tr>\n",
       "    <tr>\n",
       "      <th>17</th>\n",
       "      <td>57583</td>\n",
       "      <td>82</td>\n",
       "      <td>H97</td>\n",
       "      <td>2018-09-14T00:23:47.200Z</td>\n",
       "      <td>38.87</td>\n",
       "      <td>28.08</td>\n",
       "      <td>0.0</td>\n",
       "      <td>0.0</td>\n",
       "      <td>0.00</td>\n",
       "      <td>261.96</td>\n",
       "      <td>304.97</td>\n",
       "      <td>NaN</td>\n",
       "    </tr>\n",
       "    <tr>\n",
       "      <th>18</th>\n",
       "      <td>57583</td>\n",
       "      <td>82</td>\n",
       "      <td>H97</td>\n",
       "      <td>2018-09-14T00:23:47.299Z</td>\n",
       "      <td>38.86</td>\n",
       "      <td>28.08</td>\n",
       "      <td>0.0</td>\n",
       "      <td>0.0</td>\n",
       "      <td>0.00</td>\n",
       "      <td>261.96</td>\n",
       "      <td>311.71</td>\n",
       "      <td>NaN</td>\n",
       "    </tr>\n",
       "    <tr>\n",
       "      <th>19</th>\n",
       "      <td>57583</td>\n",
       "      <td>82</td>\n",
       "      <td>H97</td>\n",
       "      <td>2018-09-14T00:23:47.400Z</td>\n",
       "      <td>38.86</td>\n",
       "      <td>28.09</td>\n",
       "      <td>0.0</td>\n",
       "      <td>0.0</td>\n",
       "      <td>0.01</td>\n",
       "      <td>261.96</td>\n",
       "      <td>318.99</td>\n",
       "      <td>NaN</td>\n",
       "    </tr>\n",
       "  </tbody>\n",
       "</table>\n",
       "</div>"
      ],
      "text/plain": [
       "    gameKey  playID player                      time      x      y    s    a  \\\n",
       "0     57583      82    H97  2018-09-14T00:23:45.500Z  38.89  28.06  0.0  0.0   \n",
       "1     57583      82    H97  2018-09-14T00:23:45.599Z  38.89  28.06  0.0  0.0   \n",
       "2     57583      82    H97  2018-09-14T00:23:45.700Z  38.89  28.06  0.0  0.0   \n",
       "3     57583      82    H97  2018-09-14T00:23:45.799Z  38.88  28.05  0.0  0.0   \n",
       "4     57583      82    H97  2018-09-14T00:23:45.900Z  38.88  28.05  0.0  0.0   \n",
       "5     57583      82    H97  2018-09-14T00:23:46.000Z  38.88  28.05  0.0  0.0   \n",
       "6     57583      82    H97  2018-09-14T00:23:46.099Z  38.88  28.05  0.0  0.0   \n",
       "7     57583      82    H97  2018-09-14T00:23:46.200Z  38.88  28.05  0.0  0.0   \n",
       "8     57583      82    H97  2018-09-14T00:23:46.299Z  38.88  28.05  0.0  0.0   \n",
       "9     57583      82    H97  2018-09-14T00:23:46.400Z  38.88  28.05  0.0  0.0   \n",
       "10    57583      82    H97  2018-09-14T00:23:46.500Z  38.87  28.05  0.0  0.0   \n",
       "11    57583      82    H97  2018-09-14T00:23:46.599Z  38.87  28.06  0.0  0.0   \n",
       "12    57583      82    H97  2018-09-14T00:23:46.700Z  38.87  28.06  0.0  0.0   \n",
       "13    57583      82    H97  2018-09-14T00:23:46.799Z  38.87  28.06  0.0  0.0   \n",
       "14    57583      82    H97  2018-09-14T00:23:46.900Z  38.87  28.07  0.0  0.0   \n",
       "15    57583      82    H97  2018-09-14T00:23:47.000Z  38.87  28.07  0.0  0.0   \n",
       "16    57583      82    H97  2018-09-14T00:23:47.099Z  38.87  28.07  0.0  0.0   \n",
       "17    57583      82    H97  2018-09-14T00:23:47.200Z  38.87  28.08  0.0  0.0   \n",
       "18    57583      82    H97  2018-09-14T00:23:47.299Z  38.86  28.08  0.0  0.0   \n",
       "19    57583      82    H97  2018-09-14T00:23:47.400Z  38.86  28.09  0.0  0.0   \n",
       "\n",
       "     dis       o     dir event  \n",
       "0   0.00  261.28  222.79   NaN  \n",
       "1   0.00  261.28  221.93   NaN  \n",
       "2   0.00  261.28  221.21   NaN  \n",
       "3   0.00  261.28  220.07   NaN  \n",
       "4   0.00  261.28  220.31   NaN  \n",
       "5   0.00  261.28  218.99   NaN  \n",
       "6   0.00  261.28  222.44   NaN  \n",
       "7   0.00  261.28  225.21   NaN  \n",
       "8   0.00  261.28  225.91   NaN  \n",
       "9   0.00  261.28  226.38   NaN  \n",
       "10  0.00  261.28  231.01   NaN  \n",
       "11  0.00  261.28  239.14   NaN  \n",
       "12  0.00  261.28  240.61   NaN  \n",
       "13  0.00  261.28  249.98   NaN  \n",
       "14  0.01  261.28  271.06   NaN  \n",
       "15  0.00  261.28  285.13   NaN  \n",
       "16  0.01  261.96  297.55   NaN  \n",
       "17  0.00  261.96  304.97   NaN  \n",
       "18  0.00  261.96  311.71   NaN  \n",
       "19  0.01  261.96  318.99   NaN  "
      ]
     },
     "execution_count": 43,
     "metadata": {},
     "output_type": "execute_result"
    }
   ],
   "source": [
    "train_tracking.head(20)"
   ]
  },
  {
   "cell_type": "code",
   "execution_count": 44,
   "metadata": {},
   "outputs": [
    {
     "data": {
      "text/plain": [
       "line_set                2574\n",
       "ball_snap               1320\n",
       "handoff                 1232\n",
       "tackle                  1210\n",
       "first_contact           1166\n",
       "huddle_break_offense    1122\n",
       "huddle_start_offense     616\n",
       "man_in_motion            440\n",
       "out_of_bounds             66\n",
       "shift                     66\n",
       "play_action               44\n",
       "touchdown                 44\n",
       "penalty_flag              44\n",
       "run                       44\n",
       "pass_forward              44\n",
       "pass_outcome_caught       44\n",
       "pass_arrived              44\n",
       "Name: event, dtype: int64"
      ]
     },
     "execution_count": 44,
     "metadata": {},
     "output_type": "execute_result"
    }
   ],
   "source": [
    "train_tracking['event'].value_counts()"
   ]
  },
  {
   "cell_type": "markdown",
   "metadata": {},
   "source": [
    "### test tracking"
   ]
  },
  {
   "cell_type": "code",
   "execution_count": 45,
   "metadata": {},
   "outputs": [
    {
     "data": {
      "text/html": [
       "<div>\n",
       "<style scoped>\n",
       "    .dataframe tbody tr th:only-of-type {\n",
       "        vertical-align: middle;\n",
       "    }\n",
       "\n",
       "    .dataframe tbody tr th {\n",
       "        vertical-align: top;\n",
       "    }\n",
       "\n",
       "    .dataframe thead th {\n",
       "        text-align: right;\n",
       "    }\n",
       "</style>\n",
       "<table border=\"1\" class=\"dataframe\">\n",
       "  <thead>\n",
       "    <tr style=\"text-align: right;\">\n",
       "      <th></th>\n",
       "      <th>gameKey</th>\n",
       "      <th>playID</th>\n",
       "      <th>player</th>\n",
       "      <th>time</th>\n",
       "      <th>x</th>\n",
       "      <th>y</th>\n",
       "      <th>s</th>\n",
       "      <th>a</th>\n",
       "      <th>dis</th>\n",
       "      <th>o</th>\n",
       "      <th>dir</th>\n",
       "      <th>event</th>\n",
       "    </tr>\n",
       "  </thead>\n",
       "  <tbody>\n",
       "    <tr>\n",
       "      <th>0</th>\n",
       "      <td>57906</td>\n",
       "      <td>718</td>\n",
       "      <td>H55</td>\n",
       "      <td>2019-09-08T17:29:28.700Z</td>\n",
       "      <td>11.92</td>\n",
       "      <td>30.08</td>\n",
       "      <td>2.15</td>\n",
       "      <td>0.80</td>\n",
       "      <td>0.22</td>\n",
       "      <td>112.10</td>\n",
       "      <td>89.85</td>\n",
       "      <td>huddle_start_offense</td>\n",
       "    </tr>\n",
       "    <tr>\n",
       "      <th>1</th>\n",
       "      <td>57906</td>\n",
       "      <td>718</td>\n",
       "      <td>H55</td>\n",
       "      <td>2019-09-08T17:29:28.799Z</td>\n",
       "      <td>12.14</td>\n",
       "      <td>30.07</td>\n",
       "      <td>2.07</td>\n",
       "      <td>1.06</td>\n",
       "      <td>0.21</td>\n",
       "      <td>108.40</td>\n",
       "      <td>91.43</td>\n",
       "      <td>NaN</td>\n",
       "    </tr>\n",
       "    <tr>\n",
       "      <th>2</th>\n",
       "      <td>57906</td>\n",
       "      <td>718</td>\n",
       "      <td>H55</td>\n",
       "      <td>2019-09-08T17:29:28.900Z</td>\n",
       "      <td>12.34</td>\n",
       "      <td>30.06</td>\n",
       "      <td>1.97</td>\n",
       "      <td>1.22</td>\n",
       "      <td>0.20</td>\n",
       "      <td>104.14</td>\n",
       "      <td>92.42</td>\n",
       "      <td>NaN</td>\n",
       "    </tr>\n",
       "    <tr>\n",
       "      <th>3</th>\n",
       "      <td>57906</td>\n",
       "      <td>718</td>\n",
       "      <td>H55</td>\n",
       "      <td>2019-09-08T17:29:29.000Z</td>\n",
       "      <td>12.53</td>\n",
       "      <td>30.05</td>\n",
       "      <td>1.85</td>\n",
       "      <td>1.30</td>\n",
       "      <td>0.19</td>\n",
       "      <td>100.61</td>\n",
       "      <td>93.22</td>\n",
       "      <td>NaN</td>\n",
       "    </tr>\n",
       "    <tr>\n",
       "      <th>4</th>\n",
       "      <td>57906</td>\n",
       "      <td>718</td>\n",
       "      <td>H55</td>\n",
       "      <td>2019-09-08T17:29:29.099Z</td>\n",
       "      <td>12.71</td>\n",
       "      <td>30.04</td>\n",
       "      <td>1.75</td>\n",
       "      <td>1.30</td>\n",
       "      <td>0.18</td>\n",
       "      <td>97.01</td>\n",
       "      <td>93.86</td>\n",
       "      <td>NaN</td>\n",
       "    </tr>\n",
       "  </tbody>\n",
       "</table>\n",
       "</div>"
      ],
      "text/plain": [
       "   gameKey  playID player                      time      x      y     s     a  \\\n",
       "0    57906     718    H55  2019-09-08T17:29:28.700Z  11.92  30.08  2.15  0.80   \n",
       "1    57906     718    H55  2019-09-08T17:29:28.799Z  12.14  30.07  2.07  1.06   \n",
       "2    57906     718    H55  2019-09-08T17:29:28.900Z  12.34  30.06  1.97  1.22   \n",
       "3    57906     718    H55  2019-09-08T17:29:29.000Z  12.53  30.05  1.85  1.30   \n",
       "4    57906     718    H55  2019-09-08T17:29:29.099Z  12.71  30.04  1.75  1.30   \n",
       "\n",
       "    dis       o    dir                 event  \n",
       "0  0.22  112.10  89.85  huddle_start_offense  \n",
       "1  0.21  108.40  91.43                   NaN  \n",
       "2  0.20  104.14  92.42                   NaN  \n",
       "3  0.19  100.61  93.22                   NaN  \n",
       "4  0.18   97.01  93.86                   NaN  "
      ]
     },
     "execution_count": 45,
     "metadata": {},
     "output_type": "execute_result"
    }
   ],
   "source": [
    "test_tracking.head()"
   ]
  },
  {
   "cell_type": "code",
   "execution_count": 46,
   "metadata": {},
   "outputs": [],
   "source": [
    "# IDEAS\n",
    "# improve video alignment - whaaat?\n",
    "# confidence > 1 - trajectories of the helmet changed\n",
    "# just use trajectories files for prediction\n",
    "#1) Model that works on tracking data\n",
    "#2) Extract impact videos\n",
    "#3) How to choose best object detection model? \n",
    "# augmentations: scale, colors, orientation, "
   ]
  },
  {
   "cell_type": "code",
   "execution_count": 47,
   "metadata": {},
   "outputs": [
    {
     "data": {
      "text/plain": [
       "983885"
      ]
     },
     "execution_count": 47,
     "metadata": {},
     "output_type": "execute_result"
    }
   ],
   "source": [
    "len(train_labels)"
   ]
  },
  {
   "cell_type": "code",
   "execution_count": 48,
   "metadata": {},
   "outputs": [
    {
     "data": {
      "text/plain": [
       "0.002349624060150376"
      ]
     },
     "execution_count": 48,
     "metadata": {},
     "output_type": "execute_result"
    }
   ],
   "source": [
    "train_labels.query(\"video=='57583_000082_Endzone.mp4'\").fillna(0)['impact'].mean()"
   ]
  },
  {
   "cell_type": "code",
   "execution_count": 49,
   "metadata": {},
   "outputs": [],
   "source": [
    "videodf = train_labels.query(\"video=='57583_000082_Endzone.mp4'\").fillna(0)"
   ]
  },
  {
   "cell_type": "code",
   "execution_count": 50,
   "metadata": {},
   "outputs": [
    {
     "data": {
      "text/plain": [
       "8512"
      ]
     },
     "execution_count": 50,
     "metadata": {},
     "output_type": "execute_result"
    }
   ],
   "source": [
    "len(videodf)"
   ]
  },
  {
   "cell_type": "code",
   "execution_count": 51,
   "metadata": {},
   "outputs": [
    {
     "ename": "NameError",
     "evalue": "name 'imp' is not defined",
     "output_type": "error",
     "traceback": [
      "\u001b[0;31m---------------------------------------------------------------------------\u001b[0m",
      "\u001b[0;31mNameError\u001b[0m                                 Traceback (most recent call last)",
      "\u001b[0;32m<ipython-input-51-4070d8714223>\u001b[0m in \u001b[0;36m<module>\u001b[0;34m\u001b[0m\n\u001b[0;32m----> 1\u001b[0;31m \u001b[0mimp\u001b[0m\u001b[0;34m\u001b[0m\u001b[0;34m\u001b[0m\u001b[0m\n\u001b[0m",
      "\u001b[0;31mNameError\u001b[0m: name 'imp' is not defined"
     ]
    }
   ],
   "source": [
    "imp"
   ]
  },
  {
   "cell_type": "code",
   "execution_count": null,
   "metadata": {},
   "outputs": [],
   "source": [
    "imp = videodf.drop_duplicates(['frame', 'impact'])\n",
    "imp_frames = imp[imp['impact'] == 1]['frame'].unique()\n",
    "videodf[videodf['frame'].isin(imp_frames)]['impact'].mean()"
   ]
  },
  {
   "cell_type": "code",
   "execution_count": null,
   "metadata": {},
   "outputs": [],
   "source": [
    "473 - 16 + 8"
   ]
  },
  {
   "cell_type": "code",
   "execution_count": null,
   "metadata": {},
   "outputs": [],
   "source": [
    "len(videodf.query(\"frame >= 9 and frame <= 465\"))"
   ]
  },
  {
   "cell_type": "markdown",
   "metadata": {},
   "source": [
    "# Helmet size"
   ]
  },
  {
   "cell_type": "code",
   "execution_count": 53,
   "metadata": {},
   "outputs": [
    {
     "data": {
      "text/plain": [
       "<AxesSubplot:>"
      ]
     },
     "execution_count": 53,
     "metadata": {},
     "output_type": "execute_result"
    },
    {
     "data": {
      "image/png": "[encoded data removed]",
      "text/plain": [
       "<Figure size 432x288 with 1 Axes>"
      ]
     },
     "metadata": {
      "needs_background": "light"
     },
     "output_type": "display_data"
    }
   ],
   "source": [
    "train_labels['width'].hist(bins=50)"
   ]
  },
  {
   "cell_type": "code",
   "execution_count": 68,
   "metadata": {},
   "outputs": [
    {
     "data": {
      "text/plain": [
       "<AxesSubplot:>"
      ]
     },
     "execution_count": 68,
     "metadata": {},
     "output_type": "execute_result"
    },
    {
     "data": {
      "image/png": "[encoded data removed]",
      "text/plain": [
       "<Figure size 432x288 with 1 Axes>"
      ]
     },
     "metadata": {
      "needs_background": "light"
     },
     "output_type": "display_data"
    }
   ],
   "source": [
    "train_labels['height'].hist(bins=50)"
   ]
  },
  {
   "cell_type": "code",
   "execution_count": 54,
   "metadata": {},
   "outputs": [
    {
     "data": {
      "text/plain": [
       "983885"
      ]
     },
     "execution_count": 54,
     "metadata": {},
     "output_type": "execute_result"
    }
   ],
   "source": [
    "len(train_labels)"
   ]
  },
  {
   "cell_type": "code",
   "execution_count": 59,
   "metadata": {},
   "outputs": [],
   "source": [
    "imp = train_labels.query(\"impact == 1\")"
   ]
  },
  {
   "cell_type": "code",
   "execution_count": 60,
   "metadata": {},
   "outputs": [
    {
     "data": {
      "text/plain": [
       "2291"
      ]
     },
     "execution_count": 60,
     "metadata": {},
     "output_type": "execute_result"
    }
   ],
   "source": [
    "len(imp)"
   ]
  },
  {
   "cell_type": "code",
   "execution_count": 62,
   "metadata": {},
   "outputs": [
    {
     "data": {
      "text/plain": [
       "<AxesSubplot:>"
      ]
     },
     "execution_count": 62,
     "metadata": {},
     "output_type": "execute_result"
    },
    {
     "data": {
      "image/png": "[encoded data removed]",
      "text/plain": [
       "<Figure size 432x288 with 1 Axes>"
      ]
     },
     "metadata": {
      "needs_background": "light"
     },
     "output_type": "display_data"
    }
   ],
   "source": [
    "imp['width'].hist(bins=20)"
   ]
  },
  {
   "cell_type": "code",
   "execution_count": 66,
   "metadata": {},
   "outputs": [
    {
     "data": {
      "text/plain": [
       "0.0379746835443038"
      ]
     },
     "execution_count": 66,
     "metadata": {},
     "output_type": "execute_result"
    }
   ],
   "source": [
    "len(imp.query(\"width <= 7\"))/len(imp)"
   ]
  },
  {
   "cell_type": "code",
   "execution_count": 67,
   "metadata": {},
   "outputs": [
    {
     "data": {
      "text/plain": [
       "<AxesSubplot:>"
      ]
     },
     "execution_count": 67,
     "metadata": {},
     "output_type": "execute_result"
    },
    {
     "data": {
      "image/png": "[encoded data removed]",
      "text/plain": [
       "<Figure size 432x288 with 1 Axes>"
      ]
     },
     "metadata": {
      "needs_background": "light"
     },
     "output_type": "display_data"
    }
   ],
   "source": [
    "imp['height'].hist(bins=20)"
   ]
  },
  {
   "cell_type": "code",
   "execution_count": null,
   "metadata": {},
   "outputs": [],
   "source": []
  },
  {
   "cell_type": "code",
   "execution_count": null,
   "metadata": {},
   "outputs": [],
   "source": []
  },
  {
   "cell_type": "code",
   "execution_count": null,
   "metadata": {},
   "outputs": [],
   "source": []
  },
  {
   "cell_type": "code",
   "execution_count": null,
   "metadata": {},
   "outputs": [],
   "source": []
  },
  {
   "cell_type": "code",
   "execution_count": null,
   "metadata": {},
   "outputs": [],
   "source": []
  },
  {
   "cell_type": "code",
   "execution_count": null,
   "metadata": {},
   "outputs": [],
   "source": []
  },
  {
   "cell_type": "code",
   "execution_count": null,
   "metadata": {},
   "outputs": [],
   "source": []
  },
  {
   "cell_type": "code",
   "execution_count": null,
   "metadata": {},
   "outputs": [],
   "source": []
  },
  {
   "cell_type": "code",
   "execution_count": null,
   "metadata": {},
   "outputs": [],
   "source": []
  },
  {
   "cell_type": "code",
   "execution_count": null,
   "metadata": {},
   "outputs": [],
   "source": []
  },
  {
   "cell_type": "code",
   "execution_count": null,
   "metadata": {},
   "outputs": [],
   "source": []
  },
  {
   "cell_type": "code",
   "execution_count": null,
   "metadata": {},
   "outputs": [],
   "source": []
  },
  {
   "cell_type": "code",
   "execution_count": null,
   "metadata": {},
   "outputs": [],
   "source": []
  },
  {
   "cell_type": "code",
   "execution_count": null,
   "metadata": {},
   "outputs": [],
   "source": []
  },
  {
   "cell_type": "code",
   "execution_count": null,
   "metadata": {},
   "outputs": [],
   "source": []
  },
  {
   "cell_type": "code",
   "execution_count": null,
   "metadata": {},
   "outputs": [],
   "source": []
  }
 ],
 "metadata": {
  "kernelspec": {
   "display_name": "Python (nfl)",
   "language": "python",
   "name": "nfl"
  },
  "language_info": {
   "codemirror_mode": {
    "name": "ipython",
    "version": 3
   },
   "file_extension": ".py",
   "mimetype": "text/x-python",
   "name": "python",
   "nbconvert_exporter": "python",
   "pygments_lexer": "ipython3",
   "version": "3.8.5"
  }
 },
 "nbformat": 4,
 "nbformat_minor": 2
}
